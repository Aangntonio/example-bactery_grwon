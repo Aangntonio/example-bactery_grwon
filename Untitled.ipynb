{
 "cells": [
  {
   "cell_type": "code",
   "execution_count": 1,
   "id": "b99bbccc",
   "metadata": {},
   "outputs": [],
   "source": [
    "#APrendizaje de programacio orientada a objetos\n",
    "class Bacteria:\n",
    "    E_colli = 'Esta bacteria es la mas comun en el mundo'\n",
    "    \n"
   ]
  },
  {
   "cell_type": "code",
   "execution_count": 2,
   "id": "2a7184e1",
   "metadata": {},
   "outputs": [
    {
     "name": "stdout",
     "output_type": "stream",
     "text": [
      "Esta bacteria es la mas comun en el mundo\n"
     ]
    }
   ],
   "source": [
    "print(Bacteria.E_colli)"
   ]
  },
  {
   "cell_type": "code",
   "execution_count": null,
   "id": "bfe92933",
   "metadata": {},
   "outputs": [],
   "source": []
  },
  {
   "cell_type": "code",
   "execution_count": 4,
   "id": "a2f8988c",
   "metadata": {},
   "outputs": [],
   "source": [
    "class bacteriocitos:\n",
    "    pass\n",
    "\n",
    "Ecolli_resis = bacteriocitos()\n",
    "Ecolli_resis.resis = 85"
   ]
  },
  {
   "cell_type": "code",
   "execution_count": 5,
   "id": "7370ccf9",
   "metadata": {},
   "outputs": [
    {
     "name": "stdout",
     "output_type": "stream",
     "text": [
      "85\n"
     ]
    }
   ],
   "source": [
    "print(Ecolli_resis.resis)"
   ]
  },
  {
   "cell_type": "code",
   "execution_count": 2,
   "id": "71f37e0f",
   "metadata": {},
   "outputs": [
    {
     "name": "stdout",
     "output_type": "stream",
     "text": [
      "5\n"
     ]
    }
   ],
   "source": [
    "class math:\n",
    "    def suma(self):\n",
    "        self.n1 =2\n",
    "        self.n2 = 3\n",
    "numero = math()   \n",
    "numero.suma()\n",
    "print(numero.n1+numero.n2)"
   ]
  },
  {
   "cell_type": "code",
   "execution_count": 40,
   "id": "5c5ae7b4",
   "metadata": {},
   "outputs": [],
   "source": [
    "class Bactery:\n",
    "    \n",
    "    def __init__(self,position,time):\n",
    "        self.position = position\n",
    "        self.time = time\n",
    "        self.lifet\n",
    "    \n",
    "    def checktime(self):\n",
    "        contidion_batery = False\n",
    "        if self.time==0:\n",
    "            contidion_batery = True\n",
    "            print('¿Se puede generar una bacteria?',contidion_batery)\n",
    "        else :\n",
    "            print('¿Se puede generar una bacteria?: ',contidion_batery)\n",
    "    \n",
    "    def Mitosis(self):\n",
    "        Bac = Bactery((0,0),9)\n",
    "        \n",
    "    "
   ]
  },
  {
   "cell_type": "code",
   "execution_count": 41,
   "id": "303ccbf7",
   "metadata": {},
   "outputs": [
    {
     "ename": "AttributeError",
     "evalue": "'Bactery' object has no attribute 'lifet'",
     "output_type": "error",
     "traceback": [
      "\u001b[1;31m---------------------------------------------------------------------------\u001b[0m",
      "\u001b[1;31mAttributeError\u001b[0m                            Traceback (most recent call last)",
      "\u001b[1;32m~\\AppData\\Local\\Temp\\ipykernel_19852\\1731175821.py\u001b[0m in \u001b[0;36m<module>\u001b[1;34m\u001b[0m\n\u001b[1;32m----> 1\u001b[1;33m \u001b[0mEcolli\u001b[0m \u001b[1;33m=\u001b[0m \u001b[0mBactery\u001b[0m\u001b[1;33m(\u001b[0m\u001b[1;33m(\u001b[0m\u001b[1;36m0\u001b[0m\u001b[1;33m,\u001b[0m\u001b[1;36m0\u001b[0m\u001b[1;33m)\u001b[0m\u001b[1;33m,\u001b[0m\u001b[1;36m10\u001b[0m\u001b[1;33m)\u001b[0m\u001b[1;33m\u001b[0m\u001b[1;33m\u001b[0m\u001b[0m\n\u001b[0m\u001b[0;32m      2\u001b[0m \u001b[0mEcolli\u001b[0m\u001b[1;33m.\u001b[0m\u001b[0mchecktime\u001b[0m\u001b[1;33m(\u001b[0m\u001b[1;33m)\u001b[0m\u001b[1;33m\u001b[0m\u001b[1;33m\u001b[0m\u001b[0m\n",
      "\u001b[1;32m~\\AppData\\Local\\Temp\\ipykernel_19852\\1299453632.py\u001b[0m in \u001b[0;36m__init__\u001b[1;34m(self, position, time)\u001b[0m\n\u001b[0;32m      4\u001b[0m         \u001b[0mself\u001b[0m\u001b[1;33m.\u001b[0m\u001b[0mposition\u001b[0m \u001b[1;33m=\u001b[0m \u001b[0mposition\u001b[0m\u001b[1;33m\u001b[0m\u001b[1;33m\u001b[0m\u001b[0m\n\u001b[0;32m      5\u001b[0m         \u001b[0mself\u001b[0m\u001b[1;33m.\u001b[0m\u001b[0mtime\u001b[0m \u001b[1;33m=\u001b[0m \u001b[0mtime\u001b[0m\u001b[1;33m\u001b[0m\u001b[1;33m\u001b[0m\u001b[0m\n\u001b[1;32m----> 6\u001b[1;33m         \u001b[0mself\u001b[0m\u001b[1;33m.\u001b[0m\u001b[0mlifet\u001b[0m\u001b[1;33m\u001b[0m\u001b[1;33m\u001b[0m\u001b[0m\n\u001b[0m\u001b[0;32m      7\u001b[0m \u001b[1;33m\u001b[0m\u001b[0m\n\u001b[0;32m      8\u001b[0m     \u001b[1;32mdef\u001b[0m \u001b[0mchecktime\u001b[0m\u001b[1;33m(\u001b[0m\u001b[0mself\u001b[0m\u001b[1;33m)\u001b[0m\u001b[1;33m:\u001b[0m\u001b[1;33m\u001b[0m\u001b[1;33m\u001b[0m\u001b[0m\n",
      "\u001b[1;31mAttributeError\u001b[0m: 'Bactery' object has no attribute 'lifet'"
     ]
    }
   ],
   "source": [
    "Ecolli = Bactery((0,0),10)\n"
   ]
  },
  {
   "cell_type": "code",
   "execution_count": 23,
   "id": "3efab9fc",
   "metadata": {},
   "outputs": [
    {
     "data": {
      "text/plain": [
       "10"
      ]
     },
     "execution_count": 23,
     "metadata": {},
     "output_type": "execute_result"
    }
   ],
   "source": [
    "Ecolli.time"
   ]
  }
 ],
 "metadata": {
  "kernelspec": {
   "display_name": "Python 3 (ipykernel)",
   "language": "python",
   "name": "python3"
  },
  "language_info": {
   "codemirror_mode": {
    "name": "ipython",
    "version": 3
   },
   "file_extension": ".py",
   "mimetype": "text/x-python",
   "name": "python",
   "nbconvert_exporter": "python",
   "pygments_lexer": "ipython3",
   "version": "3.9.13"
  }
 },
 "nbformat": 4,
 "nbformat_minor": 5
}
