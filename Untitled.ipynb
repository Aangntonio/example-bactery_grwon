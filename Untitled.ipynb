{
 "cells": [
  {
   "cell_type": "code",
   "execution_count": 1,
   "id": "b99bbccc",
   "metadata": {},
   "outputs": [],
   "source": [
    "#APrendizaje de programacio orientada a objetos\n",
    "class Bacteria:\n",
    "    E_colli = 'Esta bacteria es la mas comun en el mundo'\n",
    "    \n"
   ]
  },
  {
   "cell_type": "code",
   "execution_count": 2,
   "id": "2a7184e1",
   "metadata": {},
   "outputs": [
    {
     "name": "stdout",
     "output_type": "stream",
     "text": [
      "Esta bacteria es la mas comun en el mundo\n"
     ]
    }
   ],
   "source": [
    "print(Bacteria.E_colli)"
   ]
  },
  {
   "cell_type": "code",
   "execution_count": null,
   "id": "bfe92933",
   "metadata": {},
   "outputs": [],
   "source": []
  },
  {
   "cell_type": "code",
   "execution_count": 4,
   "id": "a2f8988c",
   "metadata": {},
   "outputs": [],
   "source": [
    "class bacteriocitos:\n",
    "    pass\n",
    "\n",
    "Ecolli_resis = bacteriocitos()\n",
    "Ecolli_resis.resis = 85"
   ]
  },
  {
   "cell_type": "code",
   "execution_count": 5,
   "id": "7370ccf9",
   "metadata": {},
   "outputs": [
    {
     "name": "stdout",
     "output_type": "stream",
     "text": [
      "85\n"
     ]
    }
   ],
   "source": [
    "print(Ecolli_resis.resis)"
   ]
  },
  {
   "cell_type": "code",
   "execution_count": 2,
   "id": "71f37e0f",
   "metadata": {},
   "outputs": [
    {
     "name": "stdout",
     "output_type": "stream",
     "text": [
      "5\n"
     ]
    }
   ],
   "source": [
    "class math:\n",
    "    def suma(self):\n",
    "        self.n1 =2\n",
    "        self.n2 = 3\n",
    "numero = math()   \n",
    "numero.suma()\n",
    "print(numero.n1+numero.n2)"
   ]
  }
 ],
 "metadata": {
  "kernelspec": {
   "display_name": "Python 3 (ipykernel)",
   "language": "python",
   "name": "python3"
  },
  "language_info": {
   "codemirror_mode": {
    "name": "ipython",
    "version": 3
   },
   "file_extension": ".py",
   "mimetype": "text/x-python",
   "name": "python",
   "nbconvert_exporter": "python",
   "pygments_lexer": "ipython3",
   "version": "3.9.13"
  }
 },
 "nbformat": 4,
 "nbformat_minor": 5
}
